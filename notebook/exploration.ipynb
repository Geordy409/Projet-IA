{
 "cells": [
  {
   "cell_type": "code",
   "execution_count": null,
   "metadata": {
    "vscode": {
     "languageId": "plaintext"
    }
   },
   "outputs": [],
   "source": [
    "import faiss\n",
    "import numpy as np\n",
    "from sentence_transformers import SentenceTransformer\n",
    "\n",
    "# Charger l'index et le modèle\n",
    "index = faiss.read_index(\"data/faiss_index.bin\")\n",
    "model = SentenceTransformer('all-MiniLM-L6-v2')\n",
    "\n",
    "# Exemple de requête\n",
    "query = \"Créer un organigramme d'entreprise\"\n",
    "query_embedding = model.encode([query]).astype('float32')\n",
    "\n",
    "# Rechercher dans l'index\n",
    "distances, indices = index.search(query_embedding, k=1)\n",
    "print(f\"Résultat : {indices[0][0]}, Distance : {distances[0][0]}\")\n"
   ]
  }
 ],
 "metadata": {
  "language_info": {
   "name": "python"
  }
 },
 "nbformat": 4,
 "nbformat_minor": 2
}
