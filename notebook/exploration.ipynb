{
 "cells": [
  {
   "cell_type": "code",
   "execution_count": 31,
   "metadata": {},
   "outputs": [
    {
     "name": "stdout",
     "output_type": "stream",
     "text": [
      "Résultat : 1, Distance : 0.5288513898849487\n"
     ]
    }
   ],
   "source": [
    "import faiss\n",
    "import numpy as np\n",
    "from sentence_transformers import SentenceTransformer\n",
    "import os\n",
    "\n",
    "# Charger l'index et le modèle\n",
    "index = faiss.read_index(\"../data/faiss_index.bin\")\n",
    "\n",
    "if not os.path.exists(\"../data/faiss_index.bin\"):\n",
    "    raise FileNotFoundError(\"Le fichier data/faiss_index.bin est introuvable.\")\n",
    "model = SentenceTransformer('all-MiniLM-L6-v2')\n",
    "\n",
    "# Exemple de requête\n",
    "query = \"Créer un organigramme d'entreprise\"\n",
    "query_embedding = model.encode([query]).astype('float32')\n",
    "\n",
    "# Rechercher dans l'index\n",
    "distances, indices = index.search(query_embedding, k=1)\n",
    "print(f\"Résultat : {indices[0][0]}, Distance : {distances[0][0]}\")\n"
   ]
  }
 ],
 "metadata": {
  "kernelspec": {
   "display_name": ".venv",
   "language": "python",
   "name": "python3"
  },
  "language_info": {
   "codemirror_mode": {
    "name": "ipython",
    "version": 3
   },
   "file_extension": ".py",
   "mimetype": "text/x-python",
   "name": "python",
   "nbconvert_exporter": "python",
   "pygments_lexer": "ipython3",
   "version": "3.10.11"
  }
 },
 "nbformat": 4,
 "nbformat_minor": 2
}
